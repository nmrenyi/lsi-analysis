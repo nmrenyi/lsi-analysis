{
 "cells": [
  {
   "cell_type": "code",
   "execution_count": null,
   "metadata": {},
   "outputs": [],
   "source": [
    "import numpy as np\n",
    "import json\n",
    "from scipy import sparse\n",
    "import os"
   ]
  },
  {
   "cell_type": "code",
   "execution_count": null,
   "metadata": {},
   "outputs": [],
   "source": [
    "dataset = 'toy10'\n",
    "dim = 100\n",
    "random_seed = 9999744\n",
    "config = f'data_{dataset}-dim_{dim}-rand_{random_seed}'\n",
    "save_dir = f'../result/{config}'"
   ]
  },
  {
   "cell_type": "code",
   "execution_count": null,
   "metadata": {},
   "outputs": [],
   "source": [
    "term_doc_sparse = sparse.load_npz(os.path.join(save_dir, f'termDocSparse.npz'))\n",
    "term_array = np.load(os.path.join(save_dir, f'termArray.npy'))\n",
    "doc_array  = np.load(os.path.join(save_dir, f'docArray.npy'))\n",
    "with open(os.path.join(save_dir, 'term-doc.json'), mode='r', encoding='utf8') as f:\n",
    "    term_doc_text = json.load(f)\n",
    "    terms = term_doc_text['terms']\n",
    "    docs = term_doc_text['docs']\n",
    "with open(os.path.join(save_dir, 'frobenius-norm-approx-raw.txt'), mode='r', encoding='utf8') as f:\n",
    "    frob_norm = float(f.read())\n"
   ]
  },
  {
   "cell_type": "code",
   "execution_count": null,
   "metadata": {},
   "outputs": [],
   "source": [
    "print('term_doc_sparse.shape:', term_doc_sparse.shape)\n",
    "print('term_array.shape', term_array.shape)\n",
    "print('doc_array.shape', doc_array.shape)\n",
    "print('#term_text:', len(terms))\n",
    "print('#doc_text:', len(docs))\n",
    "print('feature_dim:', doc_array.shape[1])\n",
    "print('frobenius norm:', frob_norm)"
   ]
  },
  {
   "cell_type": "code",
   "execution_count": null,
   "metadata": {},
   "outputs": [],
   "source": []
  },
  {
   "cell_type": "code",
   "execution_count": null,
   "metadata": {},
   "outputs": [],
   "source": []
  }
 ],
 "metadata": {
  "interpreter": {
   "hash": "a15ccb50246f7e7797bfc44dccdce90a74059fe81a59d1aaacc8dc8dd0324c5c"
  },
  "kernelspec": {
   "display_name": "Python 3.8.12 64-bit ('base': conda)",
   "language": "python",
   "name": "python3"
  },
  "language_info": {
   "codemirror_mode": {
    "name": "ipython",
    "version": 3
   },
   "file_extension": ".py",
   "mimetype": "text/x-python",
   "name": "python",
   "nbconvert_exporter": "python",
   "pygments_lexer": "ipython3",
   "version": "3.8.12"
  },
  "orig_nbformat": 4
 },
 "nbformat": 4,
 "nbformat_minor": 2
}
