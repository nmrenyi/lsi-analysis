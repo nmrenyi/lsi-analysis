{
 "cells": [
  {
   "cell_type": "code",
   "execution_count": null,
   "metadata": {},
   "outputs": [],
   "source": [
    "import os\n",
    "import numpy as np\n",
    "import json\n",
    "from scipy import sparse"
   ]
  },
  {
   "cell_type": "code",
   "execution_count": null,
   "metadata": {},
   "outputs": [],
   "source": [
    "dataset = 'toy100'\n",
    "dim = 100\n",
    "random_seed = 9999744\n",
    "config = f'data_{dataset}-dim_{dim}-rand_{random_seed}'\n",
    "save_dir = f'../result/{config}'"
   ]
  },
  {
   "cell_type": "code",
   "execution_count": null,
   "metadata": {},
   "outputs": [],
   "source": [
    "term_doc_sparse = sparse.load_npz(os.path.join(save_dir, f'termDocSparse.npz'))\n",
    "term_array = np.load(os.path.join(save_dir, f'termArray.npy'))\n",
    "doc_array  = np.load(os.path.join(save_dir, f'docArray.npy'))\n",
    "with open(os.path.join(save_dir, 'term-doc.json'), mode='r', encoding='utf8') as f:\n",
    "    term_doc_text = json.load(f)\n",
    "    terms = term_doc_text['terms']\n",
    "    docs = term_doc_text['docs']\n",
    "with open(os.path.join(save_dir, 'frobenius-norm-approx-raw.txt'), mode='r', encoding='utf8') as f:\n",
    "    frob_norm = float(f.read())\n"
   ]
  },
  {
   "cell_type": "code",
   "execution_count": null,
   "metadata": {},
   "outputs": [],
   "source": [
    "print('term_doc_sparse.shape:', term_doc_sparse.shape)\n",
    "print('term_array.shape', term_array.shape)\n",
    "print('doc_array.shape', doc_array.shape)\n",
    "print('#term_text:', len(terms))\n",
    "print('#doc_text:', len(docs))\n",
    "print('feature_dim:', doc_array.shape[1])\n",
    "print('frobenius norm:', frob_norm)"
   ]
  },
  {
   "cell_type": "code",
   "execution_count": null,
   "metadata": {},
   "outputs": [],
   "source": [
    "synonyms = ['中华民族', '中国人']\n",
    "other_words = ['依法', '音乐']\n",
    "words = synonyms + other_words"
   ]
  },
  {
   "cell_type": "code",
   "execution_count": null,
   "metadata": {},
   "outputs": [],
   "source": [
    "def get_doc(target_in_cnt, target_num, target_dict):\n",
    "    target_doc_list = []\n",
    "    for i in range(len(docs)):\n",
    "        in_cnt = 0\n",
    "        # WARNING: words are always matched from the begininig of the list\n",
    "        for w in words:\n",
    "            if w in docs[i]:\n",
    "                in_cnt += 1\n",
    "        if in_cnt == target_in_cnt:\n",
    "            target_doc_list.append({\n",
    "                'index': i,\n",
    "                '#appear': target_in_cnt,\n",
    "                'doc_text': docs[i],\n",
    "                'doc_array': doc_array[i],\n",
    "            })\n",
    "            if len(target_doc_list) == target_num:\n",
    "                break\n",
    "    if len(target_doc_list) != target_num:\n",
    "        print('***cannot find enough required docs containing {} words. found {}, want {}'.format(target_in_cnt, len(target_doc_list), target_num))\n",
    "    target_dict[target_in_cnt] = target_doc_list\n",
    "    return target_dict\n",
    "\n"
   ]
  },
  {
   "cell_type": "code",
   "execution_count": null,
   "metadata": {},
   "outputs": [],
   "source": [
    "doc_dict = {}  # key: #words appeared in doc, value: list of doc info\n",
    "doc_dict = get_doc(0, 2, doc_dict)\n",
    "doc_dict = get_doc(1, 2, doc_dict)\n",
    "doc_dict = get_doc(2, 2, doc_dict)\n",
    "doc_dict = get_doc(3, 1, doc_dict)\n",
    "doc_dict = get_doc(4, 1, doc_dict)\n",
    "doc_info_list = [d for i in range(5) for d in doc_dict[i]]\n",
    "print('#found docs:', len(doc_info_list))\n"
   ]
  },
  {
   "cell_type": "code",
   "execution_count": null,
   "metadata": {},
   "outputs": [],
   "source": [
    "# assert items in terms and docs list are unique, respectively\n",
    "words_info_list = []\n",
    "for word in words:\n",
    "    index = terms.index(word)\n",
    "    words_info_list.append({\n",
    "        'index': index,\n",
    "        'word_text': word,\n",
    "        'word_array': term_array[index]\n",
    "    })\n"
   ]
  },
  {
   "cell_type": "code",
   "execution_count": null,
   "metadata": {},
   "outputs": [],
   "source": []
  }
 ],
 "metadata": {
  "interpreter": {
   "hash": "a15ccb50246f7e7797bfc44dccdce90a74059fe81a59d1aaacc8dc8dd0324c5c"
  },
  "kernelspec": {
   "display_name": "Python 3.8.12 64-bit ('base': conda)",
   "language": "python",
   "name": "python3"
  },
  "language_info": {
   "codemirror_mode": {
    "name": "ipython",
    "version": 3
   },
   "file_extension": ".py",
   "mimetype": "text/x-python",
   "name": "python",
   "nbconvert_exporter": "python",
   "pygments_lexer": "ipython3",
   "version": "3.8.12"
  },
  "orig_nbformat": 4
 },
 "nbformat": 4,
 "nbformat_minor": 2
}
